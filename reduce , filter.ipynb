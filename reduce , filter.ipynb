{
 "cells": [
  {
   "cell_type": "code",
   "execution_count": 2,
   "id": "53962f22-66f4-40ac-b649-b73a2a6c2c21",
   "metadata": {},
   "outputs": [],
   "source": [
    "l1=[12,34,31]\n",
    "l2=[10,20,30]"
   ]
  },
  {
   "cell_type": "code",
   "execution_count": 4,
   "id": "57e73fc0-b3a7-4741-811d-e7c443b754ef",
   "metadata": {},
   "outputs": [],
   "source": [
    "def test(l1):\n",
    "    l3=[]\n",
    "    l4=[]\n",
    "    for i in l:\n",
    "        l3.append(l1+l2)\n",
    "    return l3\n",
    "    return l4\n"
   ]
  },
  {
   "cell_type": "code",
   "execution_count": 8,
   "id": "eb0db4e0-0597-4e44-85f2-097b0629927e",
   "metadata": {},
   "outputs": [
    {
     "data": {
      "text/plain": [
       "[[12, 34, 31, 10, 20, 30], [12, 34, 31, 10, 20, 30], [12, 34, 31, 10, 20, 30]]"
      ]
     },
     "execution_count": 8,
     "metadata": {},
     "output_type": "execute_result"
    }
   ],
   "source": [
    "test(l1)"
   ]
  },
  {
   "cell_type": "code",
   "execution_count": 9,
   "id": "5cb657a0-c90b-40d5-ab8f-08f4ecfa2868",
   "metadata": {},
   "outputs": [],
   "source": [
    "from functools import reduce"
   ]
  },
  {
   "cell_type": "code",
   "execution_count": 10,
   "id": "dc8d668d-a080-4663-9771-7425986fce11",
   "metadata": {},
   "outputs": [],
   "source": [
    "l=[12,34,56]"
   ]
  },
  {
   "cell_type": "code",
   "execution_count": 11,
   "id": "65c703f4-df09-4305-a6ea-aedd298b4774",
   "metadata": {},
   "outputs": [
    {
     "data": {
      "text/plain": [
       "102"
      ]
     },
     "execution_count": 11,
     "metadata": {},
     "output_type": "execute_result"
    }
   ],
   "source": [
    "reduce(lambda x,y : x+y,l)"
   ]
  },
  {
   "cell_type": "code",
   "execution_count": 13,
   "id": "09e56e63-ae6f-4ffd-8210-e2b9b7f01e77",
   "metadata": {},
   "outputs": [],
   "source": [
    "l=(12,21,45)"
   ]
  },
  {
   "cell_type": "code",
   "execution_count": 15,
   "id": "966eab53-6e0c-46bf-b808-eeb62e9d511e",
   "metadata": {},
   "outputs": [
    {
     "data": {
      "text/plain": [
       "78"
      ]
     },
     "execution_count": 15,
     "metadata": {},
     "output_type": "execute_result"
    }
   ],
   "source": [
    "reduce(lambda x,y,: x+y,l)"
   ]
  },
  {
   "cell_type": "code",
   "execution_count": 16,
   "id": "09fd1cc0-812c-404a-b4b7-9173d00b9202",
   "metadata": {},
   "outputs": [],
   "source": [
    "l1=[2,5,7,8]"
   ]
  },
  {
   "cell_type": "code",
   "execution_count": 18,
   "id": "844fb6ac-a642-4df0-9ba0-1d6542d16cdf",
   "metadata": {},
   "outputs": [
    {
     "data": {
      "text/plain": [
       "560"
      ]
     },
     "execution_count": 18,
     "metadata": {},
     "output_type": "execute_result"
    }
   ],
   "source": [
    "reduce(lambda x,y : x*y,l1)"
   ]
  },
  {
   "cell_type": "code",
   "execution_count": 19,
   "id": "63a090f9-cc0c-4ce6-9082-c8fec5671ce0",
   "metadata": {},
   "outputs": [
    {
     "data": {
      "text/plain": [
       "8"
      ]
     },
     "execution_count": 19,
     "metadata": {},
     "output_type": "execute_result"
    }
   ],
   "source": [
    "reduce(lambda x , y : x if x>y else y,l1)"
   ]
  },
  {
   "cell_type": "code",
   "execution_count": 20,
   "id": "de1773bd-829e-4341-8257-923110b91b07",
   "metadata": {},
   "outputs": [
    {
     "data": {
      "text/plain": [
       "2"
      ]
     },
     "execution_count": 20,
     "metadata": {},
     "output_type": "execute_result"
    }
   ],
   "source": [
    "reduce(lambda x,y : x if x<y else y,l1)"
   ]
  },
  {
   "cell_type": "code",
   "execution_count": 23,
   "id": "94e4b335-1cda-41b3-8f93-e007629f0061",
   "metadata": {},
   "outputs": [
    {
     "data": {
      "text/plain": [
       "[2, 8]"
      ]
     },
     "execution_count": 23,
     "metadata": {},
     "output_type": "execute_result"
    }
   ],
   "source": [
    "list(filter(lambda x : x % 2==0,l1))"
   ]
  },
  {
   "cell_type": "code",
   "execution_count": 29,
   "id": "a391fac1-e75e-4251-bb50-8294ffd097b8",
   "metadata": {},
   "outputs": [
    {
     "data": {
      "text/plain": [
       "[5, 7]"
      ]
     },
     "execution_count": 29,
     "metadata": {},
     "output_type": "execute_result"
    }
   ],
   "source": [
    "list(filter(lambda x : x % 2 !=0,l1))            "
   ]
  },
  {
   "cell_type": "code",
   "execution_count": null,
   "id": "6ddd9fea-cebf-42ff-8662-c2e1b23f6dad",
   "metadata": {},
   "outputs": [],
   "source": []
  }
 ],
 "metadata": {
  "kernelspec": {
   "display_name": "Python 3 (ipykernel)",
   "language": "python",
   "name": "python3"
  },
  "language_info": {
   "codemirror_mode": {
    "name": "ipython",
    "version": 3
   },
   "file_extension": ".py",
   "mimetype": "text/x-python",
   "name": "python",
   "nbconvert_exporter": "python",
   "pygments_lexer": "ipython3",
   "version": "3.10.8"
  }
 },
 "nbformat": 4,
 "nbformat_minor": 5
}
