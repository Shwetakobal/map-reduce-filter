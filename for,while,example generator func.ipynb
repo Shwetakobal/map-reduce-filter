{
 "cells": [
  {
   "cell_type": "code",
   "execution_count": 1,
   "id": "6c18a53e-35ea-4255-89c7-7e29d244105a",
   "metadata": {},
   "outputs": [],
   "source": [
    "def test_fib1():\n",
    "    a,b=1,2\n",
    "    while True:\n",
    "        yield a\n",
    "        a,b = b, a+b"
   ]
  },
  {
   "cell_type": "code",
   "execution_count": 2,
   "id": "ab563d83-b99a-4d99-9739-b4c036bdb561",
   "metadata": {},
   "outputs": [],
   "source": [
    "fib = test_fib1()"
   ]
  },
  {
   "cell_type": "code",
   "execution_count": 3,
   "id": "baca3aa8-0f1d-49b4-a18f-faf6d729d1bf",
   "metadata": {},
   "outputs": [
    {
     "name": "stdout",
     "output_type": "stream",
     "text": [
      "1\n",
      "2\n",
      "3\n",
      "5\n",
      "8\n",
      "13\n",
      "21\n",
      "34\n",
      "55\n",
      "89\n",
      "144\n",
      "233\n"
     ]
    }
   ],
   "source": [
    "for i in range(12):\n",
    "    print(next(fib))"
   ]
  },
  {
   "cell_type": "code",
   "execution_count": 5,
   "id": "ad3cac0b-2ceb-4981-9547-927145bbd36e",
   "metadata": {},
   "outputs": [],
   "source": [
    "s=\"sudh\""
   ]
  },
  {
   "cell_type": "code",
   "execution_count": 7,
   "id": "3352226d-f7ba-4ecb-8459-e581e81159c0",
   "metadata": {},
   "outputs": [
    {
     "name": "stdout",
     "output_type": "stream",
     "text": [
      "s\n",
      "u\n",
      "d\n",
      "h\n"
     ]
    }
   ],
   "source": [
    "for i in (s):\n",
    "    print(i)\n",
    " "
   ]
  },
  {
   "cell_type": "code",
   "execution_count": 9,
   "id": "03fb8b1d-b2b3-4005-b1d9-c2fda1bb8cfd",
   "metadata": {},
   "outputs": [],
   "source": [
    "s1=\"sudh\""
   ]
  },
  {
   "cell_type": "code",
   "execution_count": 13,
   "id": "36e2b92f-6057-4453-820b-a3a0e47cfa89",
   "metadata": {},
   "outputs": [],
   "source": [
    "s1=iter(s1)"
   ]
  },
  {
   "cell_type": "code",
   "execution_count": 14,
   "id": "c331b667-4135-46ce-b813-47f396037e76",
   "metadata": {},
   "outputs": [
    {
     "data": {
      "text/plain": [
       "'s'"
      ]
     },
     "execution_count": 14,
     "metadata": {},
     "output_type": "execute_result"
    }
   ],
   "source": [
    "next(s1)"
   ]
  },
  {
   "cell_type": "code",
   "execution_count": 15,
   "id": "30eb3028-7b28-4f2c-8cc5-79a267cbe0ac",
   "metadata": {},
   "outputs": [
    {
     "data": {
      "text/plain": [
       "'u'"
      ]
     },
     "execution_count": 15,
     "metadata": {},
     "output_type": "execute_result"
    }
   ],
   "source": [
    "next(s1)"
   ]
  },
  {
   "cell_type": "code",
   "execution_count": 16,
   "id": "50d0b8c2-b77d-4f8a-9780-ae84427afebf",
   "metadata": {},
   "outputs": [],
   "source": [
    "s4=\"shweta\""
   ]
  },
  {
   "cell_type": "code",
   "execution_count": 19,
   "id": "982b5605-dffc-4f43-b677-abafd75436b5",
   "metadata": {},
   "outputs": [],
   "source": [
    "s1=iter(s1)"
   ]
  },
  {
   "cell_type": "code",
   "execution_count": 21,
   "id": "43ce85c5-e532-4950-b384-b356915751d2",
   "metadata": {},
   "outputs": [
    {
     "ename": "NameError",
     "evalue": "name 's4' is not defined",
     "output_type": "error",
     "traceback": [
      "\u001b[0;31m---------------------------------------------------------------------------\u001b[0m",
      "\u001b[0;31mNameError\u001b[0m                                 Traceback (most recent call last)",
      "Cell \u001b[0;32mIn[21], line 1\u001b[0m\n\u001b[0;32m----> 1\u001b[0m \u001b[38;5;28mnext\u001b[39m(\u001b[43ms4\u001b[49m)\n",
      "\u001b[0;31mNameError\u001b[0m: name 's4' is not defined"
     ]
    }
   ],
   "source": [
    "next(s4)"
   ]
  },
  {
   "cell_type": "code",
   "execution_count": 22,
   "id": "d8de1be3-a006-4b21-b61f-6309844e7bb8",
   "metadata": {},
   "outputs": [],
   "source": [
    "A= \"shweta\""
   ]
  },
  {
   "cell_type": "code",
   "execution_count": 23,
   "id": "db6cc12a-302b-4acc-b925-06fadba9ca90",
   "metadata": {},
   "outputs": [],
   "source": [
    "s12=iter(A)"
   ]
  },
  {
   "cell_type": "code",
   "execution_count": 25,
   "id": "da9fca6a-5e47-4973-965a-c7fc10f17f40",
   "metadata": {},
   "outputs": [
    {
     "data": {
      "text/plain": [
       "'s'"
      ]
     },
     "execution_count": 25,
     "metadata": {},
     "output_type": "execute_result"
    }
   ],
   "source": [
    "next(s12)"
   ]
  },
  {
   "cell_type": "code",
   "execution_count": 26,
   "id": "cb7f568f-7e0f-4f3e-becd-a8aab7d27a9c",
   "metadata": {},
   "outputs": [
    {
     "data": {
      "text/plain": [
       "'h'"
      ]
     },
     "execution_count": 26,
     "metadata": {},
     "output_type": "execute_result"
    }
   ],
   "source": [
    "next(s12)"
   ]
  },
  {
   "cell_type": "code",
   "execution_count": 28,
   "id": "812f5ad0-5d2d-4a93-87c2-e0cce7b4ee8f",
   "metadata": {},
   "outputs": [],
   "source": [
    "def test_fib(n):\n",
    "    a,b =20,30\n",
    "    for i in range(n):\n",
    "        yield a\n",
    "        a,b=b, a*b"
   ]
  },
  {
   "cell_type": "code",
   "execution_count": 32,
   "id": "d06d8a68-c5c7-407b-94e1-5867c1f0bf45",
   "metadata": {},
   "outputs": [
    {
     "name": "stdout",
     "output_type": "stream",
     "text": [
      "20\n",
      "30\n",
      "600\n",
      "18000\n",
      "10800000\n",
      "194400000000\n",
      "2099520000000000000\n",
      "408146688000000000000000000000\n",
      "856912134389760000000000000000000000000000000000\n",
      "349745849558191445114880000000000000000000000000000000000000000000000000000000\n"
     ]
    }
   ],
   "source": [
    "for i in test_fib(10):\n",
    "    print(i)\n",
    "    \n",
    "    "
   ]
  },
  {
   "cell_type": "code",
   "execution_count": null,
   "id": "934e0584-f940-46e4-911f-1ae39dd6da34",
   "metadata": {},
   "outputs": [],
   "source": []
  }
 ],
 "metadata": {
  "kernelspec": {
   "display_name": "Python 3 (ipykernel)",
   "language": "python",
   "name": "python3"
  },
  "language_info": {
   "codemirror_mode": {
    "name": "ipython",
    "version": 3
   },
   "file_extension": ".py",
   "mimetype": "text/x-python",
   "name": "python",
   "nbconvert_exporter": "python",
   "pygments_lexer": "ipython3",
   "version": "3.10.8"
  }
 },
 "nbformat": 4,
 "nbformat_minor": 5
}
