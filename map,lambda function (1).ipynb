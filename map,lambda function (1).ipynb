{
 "cells": [
  {
   "cell_type": "code",
   "execution_count": 1,
   "id": "26df16d9-9c4e-47b5-83c1-53bcccf63bf6",
   "metadata": {},
   "outputs": [],
   "source": [
    "l=[1,2,3,4]"
   ]
  },
  {
   "cell_type": "code",
   "execution_count": 2,
   "id": "8af174e9-a88e-4f90-a1d2-e866ae533c8f",
   "metadata": {},
   "outputs": [],
   "source": [
    "def test(l):\n",
    "    l1=[]\n",
    "    for i in l:\n",
    "        l1.append(i+2)\n",
    "    return l1\n"
   ]
  },
  {
   "cell_type": "code",
   "execution_count": 3,
   "id": "150e1dc3-5b0c-4e97-b0ac-d8cd4b619f46",
   "metadata": {},
   "outputs": [
    {
     "data": {
      "text/plain": [
       "[3, 4, 5, 6]"
      ]
     },
     "execution_count": 3,
     "metadata": {},
     "output_type": "execute_result"
    }
   ],
   "source": [
    "test(l)"
   ]
  },
  {
   "cell_type": "code",
   "execution_count": 4,
   "id": "5ded2171-4292-4e76-8c7b-045552576726",
   "metadata": {},
   "outputs": [],
   "source": [
    "def plus(x):\n",
    "    return x+2\n",
    "     "
   ]
  },
  {
   "cell_type": "code",
   "execution_count": 6,
   "id": "08da63f3-5c91-4564-a5df-8c5dec5e6ebe",
   "metadata": {},
   "outputs": [
    {
     "data": {
      "text/plain": [
       "[3, 4, 5, 6]"
      ]
     },
     "execution_count": 6,
     "metadata": {},
     "output_type": "execute_result"
    }
   ],
   "source": [
    "list(map(plus,l))"
   ]
  },
  {
   "cell_type": "code",
   "execution_count": 9,
   "id": "ebd150fe-e626-46d4-8b6b-6a1eefd94ef0",
   "metadata": {},
   "outputs": [
    {
     "data": {
      "text/plain": [
       "[3, 4, 5, 6]"
      ]
     },
     "execution_count": 9,
     "metadata": {},
     "output_type": "execute_result"
    }
   ],
   "source": [
    "list(map(lambda x : x+2,l))"
   ]
  },
  {
   "cell_type": "code",
   "execution_count": 10,
   "id": "f9ba57e3-53b4-4000-bcad-4cab26f5ac37",
   "metadata": {},
   "outputs": [],
   "source": [
    "l=(10,20,30)"
   ]
  },
  {
   "cell_type": "code",
   "execution_count": 11,
   "id": "814c9377-3219-45f6-9af9-4619511f74fe",
   "metadata": {},
   "outputs": [
    {
     "data": {
      "text/plain": [
       "[8, 18, 28]"
      ]
     },
     "execution_count": 11,
     "metadata": {},
     "output_type": "execute_result"
    }
   ],
   "source": [
    "list(map(lambda x : x-2,l))"
   ]
  },
  {
   "cell_type": "code",
   "execution_count": 15,
   "id": "ee5aa6a5-80de-497c-8176-6f2c644eb56e",
   "metadata": {},
   "outputs": [
    {
     "ename": "NameError",
     "evalue": "name 'subtract' is not defined",
     "output_type": "error",
     "traceback": [
      "\u001b[0;31m---------------------------------------------------------------------------\u001b[0m",
      "\u001b[0;31mNameError\u001b[0m                                 Traceback (most recent call last)",
      "Cell \u001b[0;32mIn[15], line 1\u001b[0m\n\u001b[0;32m----> 1\u001b[0m \u001b[38;5;28mlist\u001b[39m(\u001b[38;5;28mmap\u001b[39m(\u001b[43msubtract\u001b[49m,l))\n",
      "\u001b[0;31mNameError\u001b[0m: name 'subtract' is not defined"
     ]
    }
   ],
   "source": [
    "list(map(minus,l))"
   ]
  },
  {
   "cell_type": "code",
   "execution_count": null,
   "id": "df8b84a9-4368-4831-ac08-4e41d9557219",
   "metadata": {},
   "outputs": [],
   "source": []
  }
 ],
 "metadata": {
  "kernelspec": {
   "display_name": "Python 3 (ipykernel)",
   "language": "python",
   "name": "python3"
  },
  "language_info": {
   "codemirror_mode": {
    "name": "ipython",
    "version": 3
   },
   "file_extension": ".py",
   "mimetype": "text/x-python",
   "name": "python",
   "nbconvert_exporter": "python",
   "pygments_lexer": "ipython3",
   "version": "3.10.8"
  }
 },
 "nbformat": 4,
 "nbformat_minor": 5
}
